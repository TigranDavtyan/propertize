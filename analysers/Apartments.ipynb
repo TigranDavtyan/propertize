{
 "cells": [
  {
   "cell_type": "code",
   "execution_count": 21,
   "metadata": {},
   "outputs": [],
   "source": [
    "import pickle\n",
    "import pandas as pd\n",
    "from datetime import datetime, timedelta\n",
    "from sklearn.linear_model import LinearRegression\n",
    "\n",
    "import sys\n",
    "sys.path.append('../../realtorbot')\n",
    "from locations import *\n",
    "\n",
    "class BasicMetrics:\n",
    "    def __init__(self, df):\n",
    "        self.df = df\n",
    "        self.median_price = None\n",
    "        self.median_price_per_square = None\n",
    "        self.average_days_on_market = None\n",
    "        self.expected_days_to_sell = None\n",
    "        self.number_of_properties = None\n",
    "        self.median_monthly_mortgage_payment = None\n",
    "        self.average_floor_area = None\n",
    "        self.number_of_new_construction = None\n",
    "        self.best_offers = None\n",
    "\n",
    "    def calculate(self):\n",
    "        '''Calculate all the metrics'''\n",
    "\n",
    "        #Median dollar price\n",
    "        self.median_price = self.df['dollar_price'].median()\n",
    "        \n",
    "        #Median price per square\n",
    "        price_per_square = self.df['dollar_price'] / self.df['floor_area']\n",
    "        self.median_price_per_square = price_per_square.median()\n",
    "\n",
    "        #Average days on market \n",
    "        df_ = self.df[self.df['closed_item'] == 0]\n",
    "        self.average_days_on_market = (datetime.now() - df_['posted_date']).dt.days.mean()\n",
    "\n",
    "        #Expected days to sell\n",
    "        sold_items = self.df[self.df['closed_item'] == 1]\n",
    "        sold_items_days_on_market = (sold_items['update_date'] - sold_items['posted_date']).dt.days\n",
    "        self.expected_days_to_sell = sold_items_days_on_market.mean()\n",
    "\n",
    "        #Number of properties \n",
    "        self.number_of_properties = len(self.df)\n",
    "\n",
    "        #Median monthly mortgage payment \n",
    "        mortgage_rate = 0.04 # example rate\n",
    "        years_to_pay = 20 # example term\n",
    "        self.median_monthly_mortgage_payment = (self.df['dollar_price'] * 0.8) * (mortgage_rate/12) * ((1+mortgage_rate/12)**(years_to_pay*12)) / ((1+mortgage_rate/12)**(years_to_pay*12) - 1)\n",
    "        self.median_monthly_mortgage_payment = self.median_monthly_mortgage_payment.median()\n",
    "        # self.df['mortgage_payment'] = (self.df['dollar_price'] * 0.8) * (mortgage_rate/12) * ((1+mortgage_rate/12)**(years_to_pay*12)) / ((1+mortgage_rate/12)**(years_to_pay*12) - 1)\n",
    "        # self.median_monthly_mortgage_payment = self.df['mortgage_payment'].median()\n",
    "\n",
    "        #Average floor area \n",
    "        self.average_floor_area = self.df['floor_area'].mean()\n",
    "\n",
    "        #Number of new construction\n",
    "        self.number_of_new_construction = self.df['new_construction'].sum()\n",
    "\n",
    "    def calculate_best_offers(self):\n",
    "        origin = self.df[['itemid','new_construction', 'floors_in_the_building','elevator', 'floor_area', 'floor','number_of_bathrooms', 'number_of_rooms', 'ceiling_height', 'dollar_price']].copy(True)\n",
    "        origin.dropna(inplace=True)\n",
    "\n",
    "        X = origin.drop('dollar_price', axis=1)\n",
    "\n",
    "        y = origin['dollar_price']\n",
    "\n",
    "        model = LinearRegression().fit(X, y)\n",
    "\n",
    "        origin['score'] = X.dot(model.coef_)\n",
    "\n",
    "        origin = origin.sort_values(by=['score'], ascending=False)\n",
    "\n",
    "        self.best_offers = list(origin.iloc[5:15]['itemid'])\n",
    "\n",
    "class NRoomMetrics(BasicMetrics):\n",
    "    def __init__(self, df, nroom):\n",
    "        self.df = df[df['number_of_rooms'] == nroom]\n",
    "        super().__init__(self.df)\n",
    "\n",
    "class NDaysMetrics(BasicMetrics):\n",
    "    def __init__(self, df, ndays):\n",
    "        start_date = datetime.now() - timedelta(days=ndays)\n",
    "        self.df = df[df['update_date'] > start_date]\n",
    "\n",
    "        self.room1 = NRoomMetrics(self.df, 1)\n",
    "        self.room2 = NRoomMetrics(self.df, 2)\n",
    "        self.room3 = NRoomMetrics(self.df, 3)\n",
    "        self.room4 = NRoomMetrics(self.df, 4)\n",
    "\n",
    "\n",
    "class LocationMetrics(BasicMetrics):\n",
    "    def __init__(self, df,  location):\n",
    "        \n",
    "        if type(location) == int:\n",
    "            self.df = df[df['location'] == location]\n",
    "        elif type(location) == LocationGroup:\n",
    "            self.df = df[df['location'] in location]\n",
    "        else:\n",
    "            raise ValueError(f'Inapropiate argument \"location\" = {location}')\n",
    "\n",
    "        self.days30 = NDaysMetrics(self.df, 30)\n",
    "        self.days90 = NDaysMetrics(self.df, 90)\n",
    "\n",
    "        super().__init__(self.df)\n",
    "\n",
    "    def calculate(self):\n",
    "        super().calculate()\n",
    "\n",
    "    def save(self, filename):\n",
    "        with open(filename, 'wb') as f:\n",
    "            pickle.dump(self, f)\n",
    "\n",
    "    @staticmethod\n",
    "    def load(filename):\n",
    "        with open(filename, 'rb') as file:\n",
    "            return pickle.load(file)\n"
   ]
  },
  {
   "cell_type": "code",
   "execution_count": 22,
   "metadata": {},
   "outputs": [],
   "source": [
    "import pickle\n",
    "import plotly.graph_objs as go\n",
    "import plotly.io as pio\n",
    "import os\n",
    "\n",
    "class ForSaleApartmentsAnaliser:\n",
    "    def __init__(self, df = None, updates = None):\n",
    "        self.main_directory = '../ForSale/Apartments/'\n",
    "        if not df.empty:\n",
    "            self.df = df\n",
    "        else:\n",
    "            self.df = pd.read_csv('../ForSale/Apartments.csv')\n",
    "        \n",
    "        self.df.set_index('itemid', inplace=True)\n",
    "        self.df.drop(['children_are_welcome','pets_allowed','utility_payments','prepayment','type','condition','garage',\n",
    "                        'exterior_finish','location_from_the_street', 'entrance','lease_type','minimum_rental_period',\n",
    "                        'interior_finishing','mortgage_is_possible','handover_date'],axis=1,inplace=True)\n",
    "        \n",
    "        self.df['posted_date'] = pd.to_datetime(self.df['posted_date'])\n",
    "        self.df['update_date'] = pd.to_datetime(self.df['update_date'])\n",
    "\n",
    "        if updates:\n",
    "            self.updates = updates\n",
    "        else:\n",
    "            with open('../ForSale/Apartments.pickle', 'rb') as file:\n",
    "                self.updates = pickle.load(file)\n",
    "        self.remove_duplicate_updates()\n",
    "        self.filter_updates()\n",
    "\n",
    "    def remove_duplicate_updates(self):\n",
    "        for id, update in self.updates.items():\n",
    "            unique_dates = set()\n",
    "            unique_list = []\n",
    "\n",
    "            for item in update:\n",
    "                date = f'{item[0].date()}_{item[1]}'\n",
    "                if date not in unique_dates:\n",
    "                    unique_dates.add(date)\n",
    "                    unique_list.append(item)\n",
    "\n",
    "            self.updates[id] = unique_list\n",
    "\n",
    "    def filter_updates(self):\n",
    "        for id, item in self.updates.items():\n",
    "            filtered = []\n",
    "            for update in item:\n",
    "                if not update[0] or not update[1] or update[1] > 3000000 or update[1] < 10000 or update[0].year < 2000:\n",
    "                    continue\n",
    "                filtered.append([update[0],update[1]])\n",
    "            self.updates[id] = filtered\n",
    "\n",
    "    def analise_updates_by_location(self):\n",
    "        updates_for_locations = {}\n",
    "        for id, update in self.updates.items():\n",
    "            location = int(self.df.at[id, 'location'])\n",
    "            parent_location = [parent_location for parent_location in MARZER.keys() if location in parent_location][0].ID\n",
    "            if location not in updates_for_locations.keys(): updates_for_locations[location] = []\n",
    "            if parent_location not in updates_for_locations.keys(): updates_for_locations[parent_location] = []\n",
    "            updates_for_locations[location].extend(update)\n",
    "            updates_for_locations[parent_location].extend(update)\n",
    "        \n",
    "        for location, updates in updates_for_locations.items():\n",
    "            df = pd.DataFrame(updates, columns=['Date', 'Price'])\n",
    "            df.set_index('Date', inplace=True)\n",
    "\n",
    "            df_high_low = df.groupby(pd.Grouper(freq='D')).agg({'Price': ['min', 'max', 'median', 'mean']})\n",
    "            df_high_low.columns = ['Low', 'High', 'Median', 'Mean']\n",
    "            df_high_low.index = pd.to_datetime(df_high_low.index)\n",
    "\n",
    "            fig = go.Figure(data=[go.Candlestick(x=df_high_low.index,\n",
    "                                                open=df_high_low['Median'],\n",
    "                                                high=df_high_low['High'],\n",
    "                                                low=df_high_low['Low'],\n",
    "                                                close=df_high_low['Median'],\n",
    "                                                increasing_line_color='green',\n",
    "                                                decreasing_line_color='red')])\n",
    "\n",
    "            loc_name, parent_loc_name = getLoactionParentLocationNames(location)\n",
    "            today = datetime.now().date()\n",
    "\n",
    "            fig.update_layout(title=f'{today} : Daily High-Low and median prices in {loc_name}' +\n",
    "                               ('' if parent_loc_name == '' else f'({parent_loc_name})'),\n",
    "                            yaxis_title='Price $',\n",
    "                            xaxis_rangeslider_visible=False)\n",
    "\n",
    "            directory = f'{self.main_directory}{today}/{parent_loc_name}/{loc_name}'\n",
    "\n",
    "            os.makedirs(directory, exist_ok=True)\n",
    "\n",
    "            pio.write_image(fig, f'{directory}/daily_high_low_median_prices.png')\n",
    "\n",
    "            self.df = self.df[(self.df['dollar_price'] < 3000000) & (self.df['dollar_price'] > 0)]\n",
    "            self.df = self.df[(self.df['floor_area'] < 1000) & (self.df['floor_area'] > 0)]\n",
    "            \n",
    "            metrics = LocationMetrics(self.df, location)\n",
    "            metrics.calculate()\n",
    "            metrics.save(f'{directory}/metrics.pickle')"
   ]
  },
  {
   "cell_type": "code",
   "execution_count": 26,
   "metadata": {},
   "outputs": [
    {
     "data": {
      "text/plain": [
       "39401"
      ]
     },
     "execution_count": 26,
     "metadata": {},
     "output_type": "execute_result"
    }
   ],
   "source": [
    "df = pd.read_csv('../ForSale/Apartments.csv')\n",
    "df['closed_item'] = 0\n",
    "len(df)"
   ]
  },
  {
   "cell_type": "code",
   "execution_count": 23,
   "metadata": {},
   "outputs": [],
   "source": [
    "start_date = datetime.now() - timedelta(days=30)\n",
    "df = df[df['update_date'] > start_date]"
   ]
  },
  {
   "cell_type": "code",
   "execution_count": 25,
   "metadata": {},
   "outputs": [
    {
     "data": {
      "text/plain": [
       "32305"
      ]
     },
     "execution_count": 25,
     "metadata": {},
     "output_type": "execute_result"
    }
   ],
   "source": [
    "len(df)"
   ]
  },
  {
   "cell_type": "code",
   "execution_count": 20,
   "metadata": {},
   "outputs": [
    {
     "name": "stderr",
     "output_type": "stream",
     "text": [
      "C:\\Users\\Admin\\AppData\\Local\\Temp\\ipykernel_8544\\3123524642.py:34: SettingWithCopyWarning:\n",
      "\n",
      "\n",
      "A value is trying to be set on a copy of a slice from a DataFrame.\n",
      "Try using .loc[row_indexer,col_indexer] = value instead\n",
      "\n",
      "See the caveats in the documentation: https://pandas.pydata.org/pandas-docs/stable/user_guide/indexing.html#returning-a-view-versus-a-copy\n",
      "\n",
      "C:\\Users\\Admin\\AppData\\Local\\Temp\\ipykernel_8544\\3123524642.py:48: SettingWithCopyWarning:\n",
      "\n",
      "\n",
      "A value is trying to be set on a copy of a slice from a DataFrame.\n",
      "Try using .loc[row_indexer,col_indexer] = value instead\n",
      "\n",
      "See the caveats in the documentation: https://pandas.pydata.org/pandas-docs/stable/user_guide/indexing.html#returning-a-view-versus-a-copy\n",
      "\n",
      "C:\\Users\\Admin\\AppData\\Local\\Temp\\ipykernel_8544\\3123524642.py:34: SettingWithCopyWarning:\n",
      "\n",
      "\n",
      "A value is trying to be set on a copy of a slice from a DataFrame.\n",
      "Try using .loc[row_indexer,col_indexer] = value instead\n",
      "\n",
      "See the caveats in the documentation: https://pandas.pydata.org/pandas-docs/stable/user_guide/indexing.html#returning-a-view-versus-a-copy\n",
      "\n",
      "C:\\Users\\Admin\\AppData\\Local\\Temp\\ipykernel_8544\\3123524642.py:48: SettingWithCopyWarning:\n",
      "\n",
      "\n",
      "A value is trying to be set on a copy of a slice from a DataFrame.\n",
      "Try using .loc[row_indexer,col_indexer] = value instead\n",
      "\n",
      "See the caveats in the documentation: https://pandas.pydata.org/pandas-docs/stable/user_guide/indexing.html#returning-a-view-versus-a-copy\n",
      "\n",
      "C:\\Users\\Admin\\AppData\\Local\\Temp\\ipykernel_8544\\3123524642.py:34: SettingWithCopyWarning:\n",
      "\n",
      "\n",
      "A value is trying to be set on a copy of a slice from a DataFrame.\n",
      "Try using .loc[row_indexer,col_indexer] = value instead\n",
      "\n",
      "See the caveats in the documentation: https://pandas.pydata.org/pandas-docs/stable/user_guide/indexing.html#returning-a-view-versus-a-copy\n",
      "\n",
      "C:\\Users\\Admin\\AppData\\Local\\Temp\\ipykernel_8544\\3123524642.py:48: SettingWithCopyWarning:\n",
      "\n",
      "\n",
      "A value is trying to be set on a copy of a slice from a DataFrame.\n",
      "Try using .loc[row_indexer,col_indexer] = value instead\n",
      "\n",
      "See the caveats in the documentation: https://pandas.pydata.org/pandas-docs/stable/user_guide/indexing.html#returning-a-view-versus-a-copy\n",
      "\n",
      "C:\\Users\\Admin\\AppData\\Local\\Temp\\ipykernel_8544\\3123524642.py:34: SettingWithCopyWarning:\n",
      "\n",
      "\n",
      "A value is trying to be set on a copy of a slice from a DataFrame.\n",
      "Try using .loc[row_indexer,col_indexer] = value instead\n",
      "\n",
      "See the caveats in the documentation: https://pandas.pydata.org/pandas-docs/stable/user_guide/indexing.html#returning-a-view-versus-a-copy\n",
      "\n",
      "C:\\Users\\Admin\\AppData\\Local\\Temp\\ipykernel_8544\\3123524642.py:48: SettingWithCopyWarning:\n",
      "\n",
      "\n",
      "A value is trying to be set on a copy of a slice from a DataFrame.\n",
      "Try using .loc[row_indexer,col_indexer] = value instead\n",
      "\n",
      "See the caveats in the documentation: https://pandas.pydata.org/pandas-docs/stable/user_guide/indexing.html#returning-a-view-versus-a-copy\n",
      "\n",
      "C:\\Users\\Admin\\AppData\\Local\\Temp\\ipykernel_8544\\3123524642.py:34: SettingWithCopyWarning:\n",
      "\n",
      "\n",
      "A value is trying to be set on a copy of a slice from a DataFrame.\n",
      "Try using .loc[row_indexer,col_indexer] = value instead\n",
      "\n",
      "See the caveats in the documentation: https://pandas.pydata.org/pandas-docs/stable/user_guide/indexing.html#returning-a-view-versus-a-copy\n",
      "\n",
      "C:\\Users\\Admin\\AppData\\Local\\Temp\\ipykernel_8544\\3123524642.py:48: SettingWithCopyWarning:\n",
      "\n",
      "\n",
      "A value is trying to be set on a copy of a slice from a DataFrame.\n",
      "Try using .loc[row_indexer,col_indexer] = value instead\n",
      "\n",
      "See the caveats in the documentation: https://pandas.pydata.org/pandas-docs/stable/user_guide/indexing.html#returning-a-view-versus-a-copy\n",
      "\n",
      "C:\\Users\\Admin\\AppData\\Local\\Temp\\ipykernel_8544\\3123524642.py:34: SettingWithCopyWarning:\n",
      "\n",
      "\n",
      "A value is trying to be set on a copy of a slice from a DataFrame.\n",
      "Try using .loc[row_indexer,col_indexer] = value instead\n",
      "\n",
      "See the caveats in the documentation: https://pandas.pydata.org/pandas-docs/stable/user_guide/indexing.html#returning-a-view-versus-a-copy\n",
      "\n",
      "C:\\Users\\Admin\\AppData\\Local\\Temp\\ipykernel_8544\\3123524642.py:48: SettingWithCopyWarning:\n",
      "\n",
      "\n",
      "A value is trying to be set on a copy of a slice from a DataFrame.\n",
      "Try using .loc[row_indexer,col_indexer] = value instead\n",
      "\n",
      "See the caveats in the documentation: https://pandas.pydata.org/pandas-docs/stable/user_guide/indexing.html#returning-a-view-versus-a-copy\n",
      "\n",
      "C:\\Users\\Admin\\AppData\\Local\\Temp\\ipykernel_8544\\3123524642.py:34: SettingWithCopyWarning:\n",
      "\n",
      "\n",
      "A value is trying to be set on a copy of a slice from a DataFrame.\n",
      "Try using .loc[row_indexer,col_indexer] = value instead\n",
      "\n",
      "See the caveats in the documentation: https://pandas.pydata.org/pandas-docs/stable/user_guide/indexing.html#returning-a-view-versus-a-copy\n",
      "\n",
      "C:\\Users\\Admin\\AppData\\Local\\Temp\\ipykernel_8544\\3123524642.py:48: SettingWithCopyWarning:\n",
      "\n",
      "\n",
      "A value is trying to be set on a copy of a slice from a DataFrame.\n",
      "Try using .loc[row_indexer,col_indexer] = value instead\n",
      "\n",
      "See the caveats in the documentation: https://pandas.pydata.org/pandas-docs/stable/user_guide/indexing.html#returning-a-view-versus-a-copy\n",
      "\n",
      "C:\\Users\\Admin\\AppData\\Local\\Temp\\ipykernel_8544\\3123524642.py:34: SettingWithCopyWarning:\n",
      "\n",
      "\n",
      "A value is trying to be set on a copy of a slice from a DataFrame.\n",
      "Try using .loc[row_indexer,col_indexer] = value instead\n",
      "\n",
      "See the caveats in the documentation: https://pandas.pydata.org/pandas-docs/stable/user_guide/indexing.html#returning-a-view-versus-a-copy\n",
      "\n",
      "C:\\Users\\Admin\\AppData\\Local\\Temp\\ipykernel_8544\\3123524642.py:48: SettingWithCopyWarning:\n",
      "\n",
      "\n",
      "A value is trying to be set on a copy of a slice from a DataFrame.\n",
      "Try using .loc[row_indexer,col_indexer] = value instead\n",
      "\n",
      "See the caveats in the documentation: https://pandas.pydata.org/pandas-docs/stable/user_guide/indexing.html#returning-a-view-versus-a-copy\n",
      "\n",
      "C:\\Users\\Admin\\AppData\\Local\\Temp\\ipykernel_8544\\3123524642.py:34: SettingWithCopyWarning:\n",
      "\n",
      "\n",
      "A value is trying to be set on a copy of a slice from a DataFrame.\n",
      "Try using .loc[row_indexer,col_indexer] = value instead\n",
      "\n",
      "See the caveats in the documentation: https://pandas.pydata.org/pandas-docs/stable/user_guide/indexing.html#returning-a-view-versus-a-copy\n",
      "\n",
      "C:\\Users\\Admin\\AppData\\Local\\Temp\\ipykernel_8544\\3123524642.py:48: SettingWithCopyWarning:\n",
      "\n",
      "\n",
      "A value is trying to be set on a copy of a slice from a DataFrame.\n",
      "Try using .loc[row_indexer,col_indexer] = value instead\n",
      "\n",
      "See the caveats in the documentation: https://pandas.pydata.org/pandas-docs/stable/user_guide/indexing.html#returning-a-view-versus-a-copy\n",
      "\n",
      "C:\\Users\\Admin\\AppData\\Local\\Temp\\ipykernel_8544\\3123524642.py:34: SettingWithCopyWarning:\n",
      "\n",
      "\n",
      "A value is trying to be set on a copy of a slice from a DataFrame.\n",
      "Try using .loc[row_indexer,col_indexer] = value instead\n",
      "\n",
      "See the caveats in the documentation: https://pandas.pydata.org/pandas-docs/stable/user_guide/indexing.html#returning-a-view-versus-a-copy\n",
      "\n",
      "C:\\Users\\Admin\\AppData\\Local\\Temp\\ipykernel_8544\\3123524642.py:48: SettingWithCopyWarning:\n",
      "\n",
      "\n",
      "A value is trying to be set on a copy of a slice from a DataFrame.\n",
      "Try using .loc[row_indexer,col_indexer] = value instead\n",
      "\n",
      "See the caveats in the documentation: https://pandas.pydata.org/pandas-docs/stable/user_guide/indexing.html#returning-a-view-versus-a-copy\n",
      "\n",
      "C:\\Users\\Admin\\AppData\\Local\\Temp\\ipykernel_8544\\3123524642.py:34: SettingWithCopyWarning:\n",
      "\n",
      "\n",
      "A value is trying to be set on a copy of a slice from a DataFrame.\n",
      "Try using .loc[row_indexer,col_indexer] = value instead\n",
      "\n",
      "See the caveats in the documentation: https://pandas.pydata.org/pandas-docs/stable/user_guide/indexing.html#returning-a-view-versus-a-copy\n",
      "\n",
      "C:\\Users\\Admin\\AppData\\Local\\Temp\\ipykernel_8544\\3123524642.py:48: SettingWithCopyWarning:\n",
      "\n",
      "\n",
      "A value is trying to be set on a copy of a slice from a DataFrame.\n",
      "Try using .loc[row_indexer,col_indexer] = value instead\n",
      "\n",
      "See the caveats in the documentation: https://pandas.pydata.org/pandas-docs/stable/user_guide/indexing.html#returning-a-view-versus-a-copy\n",
      "\n",
      "C:\\Users\\Admin\\AppData\\Local\\Temp\\ipykernel_8544\\3123524642.py:34: SettingWithCopyWarning:\n",
      "\n",
      "\n",
      "A value is trying to be set on a copy of a slice from a DataFrame.\n",
      "Try using .loc[row_indexer,col_indexer] = value instead\n",
      "\n",
      "See the caveats in the documentation: https://pandas.pydata.org/pandas-docs/stable/user_guide/indexing.html#returning-a-view-versus-a-copy\n",
      "\n",
      "C:\\Users\\Admin\\AppData\\Local\\Temp\\ipykernel_8544\\3123524642.py:48: SettingWithCopyWarning:\n",
      "\n",
      "\n",
      "A value is trying to be set on a copy of a slice from a DataFrame.\n",
      "Try using .loc[row_indexer,col_indexer] = value instead\n",
      "\n",
      "See the caveats in the documentation: https://pandas.pydata.org/pandas-docs/stable/user_guide/indexing.html#returning-a-view-versus-a-copy\n",
      "\n"
     ]
    }
   ],
   "source": [
    "apt =  ForSaleApartmentsAnaliser(df)\n",
    "\n",
    "apt.analise_updates_by_location()"
   ]
  },
  {
   "cell_type": "code",
   "execution_count": 10,
   "metadata": {},
   "outputs": [],
   "source": [
    "def getLocationName(locid):\n",
    "    for location_group in MARZER.keys():\n",
    "        if locid == location_group.ID:\n",
    "            return location_group.NAME\n",
    "        if locid in location_group:\n",
    "            return location_group[locid]"
   ]
  },
  {
   "cell_type": "code",
   "execution_count": 70,
   "metadata": {},
   "outputs": [
    {
     "name": "stdout",
     "output_type": "stream",
     "text": [
      "83.01248931884766\n"
     ]
    }
   ],
   "source": [
    "from pympler import asizeof\n",
    "print(asizeof.asizeof(apt)/1024/1024)"
   ]
  },
  {
   "cell_type": "code",
   "execution_count": 3,
   "metadata": {},
   "outputs": [
    {
     "data": {
      "image/png": "[encoded data removed]",
      "text/plain": [
       "<Figure size 1500x800 with 1 Axes>"
      ]
     },
     "metadata": {},
     "output_type": "display_data"
    }
   ],
   "source": [
    "import matplotlib.pyplot as plt\n",
    "locations = YEREVAN\n",
    "\n",
    "updates_in_location = []\n",
    "for id, item in apt.updates.items():\n",
    "    if item['location'] in locations:\n",
    "        for update in item['updates']:\n",
    "            updates_in_location.extend(item['updates'])\n",
    "\n",
    "df = pd.DataFrame(updates_in_location, columns=['date', 'price'])\n",
    "df['date'] = pd.to_datetime(df['date']).dt.date\n",
    "grouped_data = df.groupby('date').mean()\n",
    "\n",
    "grouped_data.plot(kind='bar', title='Average price per day in '+locations.NAME, xlabel='Date', ylabel='Price $', figsize=(15,8))\n",
    "plt.savefig('barplot.png')\n",
    "plt.show()"
   ]
  },
  {
   "cell_type": "code",
   "execution_count": 9,
   "metadata": {},
   "outputs": [
    {
     "data": {
      "application/vnd.plotly.v1+json": {
       "config": {
        "plotlyServerURL": "https://plot.ly"
       },
       "data": [
        {
         "close": [
          375000,
          null,
          null,
          null,
          135000,
          104260,
          145500,
          135000,
          129500,
          125000,
          140000,
          108000,
          129000,
          98000,
          165000,
          131000,
          150000,
          150000,
          119000,
          90000,
          86000,
          118500,
          140000,
          235000,
          161500,
          145000,
          145000,
          130000,
          145500,
          163000,
          131988,
          125000,
          135000,
          149500,
          150000,
          161500,
          135000,
          155000,
          140000,
          120000,
          115000,
          143000,
          115000,
          140000,
          145000,
          120000,
          140000,
          150000,
          125000,
          130000,
          143000,
          123612,
          131000,
          130000,
          120000,
          125000,
          125906,
          133500,
          125000,
          127500,
          140000,
          129000,
          120000,
          135000,
          135000,
          93000
         ],
         "decreasing": {
          "line": {
           "color": "red"
          }
         },
         "high": [
          375000,
          null,
          null,
          null,
          680000,
          620000,
          580000,
          620000,
          1200000,
          1250000,
          599000,
          1800000,
          700000,
          1000000,
          1224000,
          550000,
          1000000,
          800000,
          565000,
          800000,
          620000,
          1294000,
          1000000,
          1200000,
          765000,
          2000000,
          918000,
          819000,
          1030000,
          1800000,
          800000,
          956896,
          1000000,
          1000000,
          1200000,
          900000,
          785000,
          880000,
          1270000,
          1250000,
          1550000,
          1250000,
          1650000,
          1600000,
          1100000,
          850000,
          1700000,
          1100000,
          1700000,
          1800000,
          1300000,
          1200000,
          800000,
          1500000,
          1500000,
          1400000,
          1500000,
          1380000,
          1750000,
          950000,
          1550000,
          2500000,
          2500000,
          1960000,
          1600000,
          210000
         ],
         "increasing": {
          "line": {
           "color": "green"
          }
         },
         "low": [
          375000,
          null,
          null,
          null,
          53000,
          43478,
          23000,
          57000,
          46000,
          42000,
          22000,
          58000,
          55000,
          51000,
          50000,
          50000,
          39500,
          40000,
          30000,
          35000,
          39500,
          25000,
          37000,
          60000,
          34000,
          43000,
          58000,
          38000,
          36232,
          42000,
          25000,
          57000,
          45000,
          38000,
          45000,
          52000,
          47000,
          51000,
          31703,
          45000,
          18116,
          25500,
          33000,
          31000,
          46500,
          15000,
          45000,
          35000,
          42000,
          26000,
          19000,
          26000,
          21000,
          34000,
          33000,
          32000,
          25000,
          23292,
          25880,
          24000,
          28000,
          17500,
          17000,
          20000,
          19800,
          25000
         ],
         "open": [
          375000,
          null,
          null,
          null,
          135000,
          104260,
          145500,
          135000,
          129500,
          125000,
          140000,
          108000,
          129000,
          98000,
          165000,
          131000,
          150000,
          150000,
          119000,
          90000,
          86000,
          118500,
          140000,
          235000,
          161500,
          145000,
          145000,
          130000,
          145500,
          163000,
          131988,
          125000,
          135000,
          149500,
          150000,
          161500,
          135000,
          155000,
          140000,
          120000,
          115000,
          143000,
          115000,
          140000,
          145000,
          120000,
          140000,
          150000,
          125000,
          130000,
          143000,
          123612,
          131000,
          130000,
          120000,
          125000,
          125906,
          133500,
          125000,
          127500,
          140000,
          129000,
          120000,
          135000,
          135000,
          93000
         ],
         "type": "candlestick",
         "x": [
          "2023-02-23T00:00:00",
          "2023-02-24T00:00:00",
          "2023-02-25T00:00:00",
          "2023-02-26T00:00:00",
          "2023-02-27T00:00:00",
          "2023-02-28T00:00:00",
          "2023-03-01T00:00:00",
          "2023-03-02T00:00:00",
          "2023-03-03T00:00:00",
          "2023-03-04T00:00:00",
          "2023-03-05T00:00:00",
          "2023-03-06T00:00:00",
          "2023-03-07T00:00:00",
          "2023-03-08T00:00:00",
          "2023-03-09T00:00:00",
          "2023-03-10T00:00:00",
          "2023-03-11T00:00:00",
          "2023-03-12T00:00:00",
          "2023-03-13T00:00:00",
          "2023-03-14T00:00:00",
          "2023-03-15T00:00:00",
          "2023-03-16T00:00:00",
          "2023-03-17T00:00:00",
          "2023-03-18T00:00:00",
          "2023-03-19T00:00:00",
          "2023-03-20T00:00:00",
          "2023-03-21T00:00:00",
          "2023-03-22T00:00:00",
          "2023-03-23T00:00:00",
          "2023-03-24T00:00:00",
          "2023-03-25T00:00:00",
          "2023-03-26T00:00:00",
          "2023-03-27T00:00:00",
          "2023-03-28T00:00:00",
          "2023-03-29T00:00:00",
          "2023-03-30T00:00:00",
          "2023-03-31T00:00:00",
          "2023-04-01T00:00:00",
          "2023-04-02T00:00:00",
          "2023-04-03T00:00:00",
          "2023-04-04T00:00:00",
          "2023-04-05T00:00:00",
          "2023-04-06T00:00:00",
          "2023-04-07T00:00:00",
          "2023-04-08T00:00:00",
          "2023-04-09T00:00:00",
          "2023-04-10T00:00:00",
          "2023-04-11T00:00:00",
          "2023-04-12T00:00:00",
          "2023-04-13T00:00:00",
          "2023-04-14T00:00:00",
          "2023-04-15T00:00:00",
          "2023-04-16T00:00:00",
          "2023-04-17T00:00:00",
          "2023-04-18T00:00:00",
          "2023-04-19T00:00:00",
          "2023-04-20T00:00:00",
          "2023-04-21T00:00:00",
          "2023-04-22T00:00:00",
          "2023-04-23T00:00:00",
          "2023-04-24T00:00:00",
          "2023-04-25T00:00:00",
          "2023-04-26T00:00:00",
          "2023-04-27T00:00:00",
          "2023-04-28T00:00:00",
          "2023-04-29T00:00:00"
         ]
        }
       ],
       "layout": {
        "template": {
         "data": {
          "bar": [
           {
            "error_x": {
             "color": "#2a3f5f"
            },
            "error_y": {
             "color": "#2a3f5f"
            },
            "marker": {
             "line": {
              "color": "#E5ECF6",
              "width": 0.5
             },
             "pattern": {
              "fillmode": "overlay",
              "size": 10,
              "solidity": 0.2
             }
            },
            "type": "bar"
           }
          ],
          "barpolar": [
           {
            "marker": {
             "line": {
              "color": "#E5ECF6",
              "width": 0.5
             },
             "pattern": {
              "fillmode": "overlay",
              "size": 10,
              "solidity": 0.2
             }
            },
            "type": "barpolar"
           }
          ],
          "carpet": [
           {
            "aaxis": {
             "endlinecolor": "#2a3f5f",
             "gridcolor": "white",
             "linecolor": "white",
             "minorgridcolor": "white",
             "startlinecolor": "#2a3f5f"
            },
            "baxis": {
             "endlinecolor": "#2a3f5f",
             "gridcolor": "white",
             "linecolor": "white",
             "minorgridcolor": "white",
             "startlinecolor": "#2a3f5f"
            },
            "type": "carpet"
           }
          ],
          "choropleth": [
           {
            "colorbar": {
             "outlinewidth": 0,
             "ticks": ""
            },
            "type": "choropleth"
           }
          ],
          "contour": [
           {
            "colorbar": {
             "outlinewidth": 0,
             "ticks": ""
            },
            "colorscale": [
             [
              0,
              "#0d0887"
             ],
             [
              0.1111111111111111,
              "#46039f"
             ],
             [
              0.2222222222222222,
              "#7201a8"
             ],
             [
              0.3333333333333333,
              "#9c179e"
             ],
             [
              0.4444444444444444,
              "#bd3786"
             ],
             [
              0.5555555555555556,
              "#d8576b"
             ],
             [
              0.6666666666666666,
              "#ed7953"
             ],
             [
              0.7777777777777778,
              "#fb9f3a"
             ],
             [
              0.8888888888888888,
              "#fdca26"
             ],
             [
              1,
              "#f0f921"
             ]
            ],
            "type": "contour"
           }
          ],
          "contourcarpet": [
           {
            "colorbar": {
             "outlinewidth": 0,
             "ticks": ""
            },
            "type": "contourcarpet"
           }
          ],
          "heatmap": [
           {
            "colorbar": {
             "outlinewidth": 0,
             "ticks": ""
            },
            "colorscale": [
             [
              0,
              "#0d0887"
             ],
             [
              0.1111111111111111,
              "#46039f"
             ],
             [
              0.2222222222222222,
              "#7201a8"
             ],
             [
              0.3333333333333333,
              "#9c179e"
             ],
             [
              0.4444444444444444,
              "#bd3786"
             ],
             [
              0.5555555555555556,
              "#d8576b"
             ],
             [
              0.6666666666666666,
              "#ed7953"
             ],
             [
              0.7777777777777778,
              "#fb9f3a"
             ],
             [
              0.8888888888888888,
              "#fdca26"
             ],
             [
              1,
              "#f0f921"
             ]
            ],
            "type": "heatmap"
           }
          ],
          "heatmapgl": [
           {
            "colorbar": {
             "outlinewidth": 0,
             "ticks": ""
            },
            "colorscale": [
             [
              0,
              "#0d0887"
             ],
             [
              0.1111111111111111,
              "#46039f"
             ],
             [
              0.2222222222222222,
              "#7201a8"
             ],
             [
              0.3333333333333333,
              "#9c179e"
             ],
             [
              0.4444444444444444,
              "#bd3786"
             ],
             [
              0.5555555555555556,
              "#d8576b"
             ],
             [
              0.6666666666666666,
              "#ed7953"
             ],
             [
              0.7777777777777778,
              "#fb9f3a"
             ],
             [
              0.8888888888888888,
              "#fdca26"
             ],
             [
              1,
              "#f0f921"
             ]
            ],
            "type": "heatmapgl"
           }
          ],
          "histogram": [
           {
            "marker": {
             "pattern": {
              "fillmode": "overlay",
              "size": 10,
              "solidity": 0.2
             }
            },
            "type": "histogram"
           }
          ],
          "histogram2d": [
           {
            "colorbar": {
             "outlinewidth": 0,
             "ticks": ""
            },
            "colorscale": [
             [
              0,
              "#0d0887"
             ],
             [
              0.1111111111111111,
              "#46039f"
             ],
             [
              0.2222222222222222,
              "#7201a8"
             ],
             [
              0.3333333333333333,
              "#9c179e"
             ],
             [
              0.4444444444444444,
              "#bd3786"
             ],
             [
              0.5555555555555556,
              "#d8576b"
             ],
             [
              0.6666666666666666,
              "#ed7953"
             ],
             [
              0.7777777777777778,
              "#fb9f3a"
             ],
             [
              0.8888888888888888,
              "#fdca26"
             ],
             [
              1,
              "#f0f921"
             ]
            ],
            "type": "histogram2d"
           }
          ],
          "histogram2dcontour": [
           {
            "colorbar": {
             "outlinewidth": 0,
             "ticks": ""
            },
            "colorscale": [
             [
              0,
              "#0d0887"
             ],
             [
              0.1111111111111111,
              "#46039f"
             ],
             [
              0.2222222222222222,
              "#7201a8"
             ],
             [
              0.3333333333333333,
              "#9c179e"
             ],
             [
              0.4444444444444444,
              "#bd3786"
             ],
             [
              0.5555555555555556,
              "#d8576b"
             ],
             [
              0.6666666666666666,
              "#ed7953"
             ],
             [
              0.7777777777777778,
              "#fb9f3a"
             ],
             [
              0.8888888888888888,
              "#fdca26"
             ],
             [
              1,
              "#f0f921"
             ]
            ],
            "type": "histogram2dcontour"
           }
          ],
          "mesh3d": [
           {
            "colorbar": {
             "outlinewidth": 0,
             "ticks": ""
            },
            "type": "mesh3d"
           }
          ],
          "parcoords": [
           {
            "line": {
             "colorbar": {
              "outlinewidth": 0,
              "ticks": ""
             }
            },
            "type": "parcoords"
           }
          ],
          "pie": [
           {
            "automargin": true,
            "type": "pie"
           }
          ],
          "scatter": [
           {
            "fillpattern": {
             "fillmode": "overlay",
             "size": 10,
             "solidity": 0.2
            },
            "type": "scatter"
           }
          ],
          "scatter3d": [
           {
            "line": {
             "colorbar": {
              "outlinewidth": 0,
              "ticks": ""
             }
            },
            "marker": {
             "colorbar": {
              "outlinewidth": 0,
              "ticks": ""
             }
            },
            "type": "scatter3d"
           }
          ],
          "scattercarpet": [
           {
            "marker": {
             "colorbar": {
              "outlinewidth": 0,
              "ticks": ""
             }
            },
            "type": "scattercarpet"
           }
          ],
          "scattergeo": [
           {
            "marker": {
             "colorbar": {
              "outlinewidth": 0,
              "ticks": ""
             }
            },
            "type": "scattergeo"
           }
          ],
          "scattergl": [
           {
            "marker": {
             "colorbar": {
              "outlinewidth": 0,
              "ticks": ""
             }
            },
            "type": "scattergl"
           }
          ],
          "scattermapbox": [
           {
            "marker": {
             "colorbar": {
              "outlinewidth": 0,
              "ticks": ""
             }
            },
            "type": "scattermapbox"
           }
          ],
          "scatterpolar": [
           {
            "marker": {
             "colorbar": {
              "outlinewidth": 0,
              "ticks": ""
             }
            },
            "type": "scatterpolar"
           }
          ],
          "scatterpolargl": [
           {
            "marker": {
             "colorbar": {
              "outlinewidth": 0,
              "ticks": ""
             }
            },
            "type": "scatterpolargl"
           }
          ],
          "scatterternary": [
           {
            "marker": {
             "colorbar": {
              "outlinewidth": 0,
              "ticks": ""
             }
            },
            "type": "scatterternary"
           }
          ],
          "surface": [
           {
            "colorbar": {
             "outlinewidth": 0,
             "ticks": ""
            },
            "colorscale": [
             [
              0,
              "#0d0887"
             ],
             [
              0.1111111111111111,
              "#46039f"
             ],
             [
              0.2222222222222222,
              "#7201a8"
             ],
             [
              0.3333333333333333,
              "#9c179e"
             ],
             [
              0.4444444444444444,
              "#bd3786"
             ],
             [
              0.5555555555555556,
              "#d8576b"
             ],
             [
              0.6666666666666666,
              "#ed7953"
             ],
             [
              0.7777777777777778,
              "#fb9f3a"
             ],
             [
              0.8888888888888888,
              "#fdca26"
             ],
             [
              1,
              "#f0f921"
             ]
            ],
            "type": "surface"
           }
          ],
          "table": [
           {
            "cells": {
             "fill": {
              "color": "#EBF0F8"
             },
             "line": {
              "color": "white"
             }
            },
            "header": {
             "fill": {
              "color": "#C8D4E3"
             },
             "line": {
              "color": "white"
             }
            },
            "type": "table"
           }
          ]
         },
         "layout": {
          "annotationdefaults": {
           "arrowcolor": "#2a3f5f",
           "arrowhead": 0,
           "arrowwidth": 1
          },
          "autotypenumbers": "strict",
          "coloraxis": {
           "colorbar": {
            "outlinewidth": 0,
            "ticks": ""
           }
          },
          "colorscale": {
           "diverging": [
            [
             0,
             "#8e0152"
            ],
            [
             0.1,
             "#c51b7d"
            ],
            [
             0.2,
             "#de77ae"
            ],
            [
             0.3,
             "#f1b6da"
            ],
            [
             0.4,
             "#fde0ef"
            ],
            [
             0.5,
             "#f7f7f7"
            ],
            [
             0.6,
             "#e6f5d0"
            ],
            [
             0.7,
             "#b8e186"
            ],
            [
             0.8,
             "#7fbc41"
            ],
            [
             0.9,
             "#4d9221"
            ],
            [
             1,
             "#276419"
            ]
           ],
           "sequential": [
            [
             0,
             "#0d0887"
            ],
            [
             0.1111111111111111,
             "#46039f"
            ],
            [
             0.2222222222222222,
             "#7201a8"
            ],
            [
             0.3333333333333333,
             "#9c179e"
            ],
            [
             0.4444444444444444,
             "#bd3786"
            ],
            [
             0.5555555555555556,
             "#d8576b"
            ],
            [
             0.6666666666666666,
             "#ed7953"
            ],
            [
             0.7777777777777778,
             "#fb9f3a"
            ],
            [
             0.8888888888888888,
             "#fdca26"
            ],
            [
             1,
             "#f0f921"
            ]
           ],
           "sequentialminus": [
            [
             0,
             "#0d0887"
            ],
            [
             0.1111111111111111,
             "#46039f"
            ],
            [
             0.2222222222222222,
             "#7201a8"
            ],
            [
             0.3333333333333333,
             "#9c179e"
            ],
            [
             0.4444444444444444,
             "#bd3786"
            ],
            [
             0.5555555555555556,
             "#d8576b"
            ],
            [
             0.6666666666666666,
             "#ed7953"
            ],
            [
             0.7777777777777778,
             "#fb9f3a"
            ],
            [
             0.8888888888888888,
             "#fdca26"
            ],
            [
             1,
             "#f0f921"
            ]
           ]
          },
          "colorway": [
           "#636efa",
           "#EF553B",
           "#00cc96",
           "#ab63fa",
           "#FFA15A",
           "#19d3f3",
           "#FF6692",
           "#B6E880",
           "#FF97FF",
           "#FECB52"
          ],
          "font": {
           "color": "#2a3f5f"
          },
          "geo": {
           "bgcolor": "white",
           "lakecolor": "white",
           "landcolor": "#E5ECF6",
           "showlakes": true,
           "showland": true,
           "subunitcolor": "white"
          },
          "hoverlabel": {
           "align": "left"
          },
          "hovermode": "closest",
          "mapbox": {
           "style": "light"
          },
          "paper_bgcolor": "white",
          "plot_bgcolor": "#E5ECF6",
          "polar": {
           "angularaxis": {
            "gridcolor": "white",
            "linecolor": "white",
            "ticks": ""
           },
           "bgcolor": "#E5ECF6",
           "radialaxis": {
            "gridcolor": "white",
            "linecolor": "white",
            "ticks": ""
           }
          },
          "scene": {
           "xaxis": {
            "backgroundcolor": "#E5ECF6",
            "gridcolor": "white",
            "gridwidth": 2,
            "linecolor": "white",
            "showbackground": true,
            "ticks": "",
            "zerolinecolor": "white"
           },
           "yaxis": {
            "backgroundcolor": "#E5ECF6",
            "gridcolor": "white",
            "gridwidth": 2,
            "linecolor": "white",
            "showbackground": true,
            "ticks": "",
            "zerolinecolor": "white"
           },
           "zaxis": {
            "backgroundcolor": "#E5ECF6",
            "gridcolor": "white",
            "gridwidth": 2,
            "linecolor": "white",
            "showbackground": true,
            "ticks": "",
            "zerolinecolor": "white"
           }
          },
          "shapedefaults": {
           "line": {
            "color": "#2a3f5f"
           }
          },
          "ternary": {
           "aaxis": {
            "gridcolor": "white",
            "linecolor": "white",
            "ticks": ""
           },
           "baxis": {
            "gridcolor": "white",
            "linecolor": "white",
            "ticks": ""
           },
           "bgcolor": "#E5ECF6",
           "caxis": {
            "gridcolor": "white",
            "linecolor": "white",
            "ticks": ""
           }
          },
          "title": {
           "x": 0.05
          },
          "xaxis": {
           "automargin": true,
           "gridcolor": "white",
           "linecolor": "white",
           "ticks": "",
           "title": {
            "standoff": 15
           },
           "zerolinecolor": "white",
           "zerolinewidth": 2
          },
          "yaxis": {
           "automargin": true,
           "gridcolor": "white",
           "linecolor": "white",
           "ticks": "",
           "title": {
            "standoff": 15
           },
           "zerolinecolor": "white",
           "zerolinewidth": 2
          }
         }
        },
        "title": {
         "text": "Daily High-Low and median prices in Yerevan"
        },
        "xaxis": {
         "rangeslider": {
          "visible": false
         }
        },
        "yaxis": {
         "title": {
          "text": "Price $"
         }
        }
       }
      }
     },
     "metadata": {},
     "output_type": "display_data"
    }
   ],
   "source": [
    "import pandas as pd\n",
    "\n",
    "\n"
   ]
  },
  {
   "cell_type": "code",
   "execution_count": null,
   "metadata": {},
   "outputs": [],
   "source": []
  }
 ],
 "metadata": {
  "kernelspec": {
   "display_name": "instabot",
   "language": "python",
   "name": "python3"
  },
  "language_info": {
   "codemirror_mode": {
    "name": "ipython",
    "version": 3
   },
   "file_extension": ".py",
   "mimetype": "text/x-python",
   "name": "python",
   "nbconvert_exporter": "python",
   "pygments_lexer": "ipython3",
   "version": "3.10.9"
  },
  "orig_nbformat": 4
 },
 "nbformat": 4,
 "nbformat_minor": 2
}
